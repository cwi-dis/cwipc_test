{
 "cells": [
  {
   "cell_type": "code",
   "execution_count": 7,
   "id": "58bb319c-ecff-4d9c-894e-2e7f35bd1b89",
   "metadata": {},
   "outputs": [],
   "source": [
    "import numpy as np"
   ]
  },
  {
   "cell_type": "code",
   "execution_count": 34,
   "id": "d484093d-1b4d-46dc-9bcb-2f2382031f19",
   "metadata": {},
   "outputs": [],
   "source": [
    "import scipy.spatial"
   ]
  },
  {
   "cell_type": "code",
   "execution_count": 1,
   "id": "5f7a36a7-e49b-4e23-bfa2-6b7f34e07688",
   "metadata": {},
   "outputs": [],
   "source": [
    "import cwipc"
   ]
  },
  {
   "cell_type": "code",
   "execution_count": 3,
   "id": "60ef62ab-3fd5-4d75-a7c8-5bf83a2221f0",
   "metadata": {},
   "outputs": [
    {
     "name": "stderr",
     "output_type": "stream",
     "text": [
      "[pcl::PLYReader] genregtest03/genregtest03.ply:26: property 'float32 focal' of element 'camera' is not handled\n",
      "[pcl::PLYReader] genregtest03/genregtest03.ply:27: property 'float32 scalex' of element 'camera' is not handled\n",
      "[pcl::PLYReader] genregtest03/genregtest03.ply:28: property 'float32 scaley' of element 'camera' is not handled\n",
      "[pcl::PLYReader] genregtest03/genregtest03.ply:29: property 'float32 centerx' of element 'camera' is not handled\n",
      "[pcl::PLYReader] genregtest03/genregtest03.ply:30: property 'float32 centery' of element 'camera' is not handled\n",
      "[pcl::PLYReader] genregtest03/genregtest03.ply:33: property 'float32 k1' of element 'camera' is not handled\n",
      "[pcl::PLYReader] genregtest03/genregtest03.ply:34: property 'float32 k2' of element 'camera' is not handled\n"
     ]
    }
   ],
   "source": [
    "pc = cwipc.cwipc_read(\"genregtest03/genregtest03.ply\", 0)"
   ]
  },
  {
   "cell_type": "code",
   "execution_count": 3,
   "id": "0a6510bb-dfc1-4168-915e-ca7c9fbc4888",
   "metadata": {},
   "outputs": [
    {
     "name": "stderr",
     "output_type": "stream",
     "text": [
      "[pcl::PLYReader] genregtest03/genregtest03.ply:26: property 'float32 focal' of element 'camera' is not handled\n",
      "[pcl::PLYReader] genregtest03/genregtest03.ply:27: property 'float32 scalex' of element 'camera' is not handled\n",
      "[pcl::PLYReader] genregtest03/genregtest03.ply:28: property 'float32 scaley' of element 'camera' is not handled\n",
      "[pcl::PLYReader] genregtest03/genregtest03.ply:29: property 'float32 centerx' of element 'camera' is not handled\n",
      "[pcl::PLYReader] genregtest03/genregtest03.ply:30: property 'float32 centery' of element 'camera' is not handled\n",
      "[pcl::PLYReader] genregtest03/genregtest03.ply:33: property 'float32 k1' of element 'camera' is not handled\n",
      "[pcl::PLYReader] genregtest03/genregtest03.ply:34: property 'float32 k2' of element 'camera' is not handled\n"
     ]
    }
   ],
   "source": [
    "# pc = cwipc.cwipc_read(\"genregtest003/genregtest003.ply\", 0)"
   ]
  },
  {
   "cell_type": "code",
   "execution_count": 10,
   "id": "2a3257fd-fc9d-4e1d-8787-e9dfc6c83f8f",
   "metadata": {},
   "outputs": [],
   "source": [
    "pc_cam1 = cwipc.cwipc_tilefilter(pc, 1)\n",
    "np_cam1 = np.ctypeslib.as_array(pc_cam1.get_points())"
   ]
  },
  {
   "cell_type": "code",
   "execution_count": 14,
   "id": "fdf11f99-c774-4add-bb1b-c653b46a7d91",
   "metadata": {},
   "outputs": [],
   "source": [
    "pc_cam2 = cwipc.cwipc_tilefilter(pc, 2)\n",
    "np_cam2 = np.ctypeslib.as_array(pc_cam2.get_points())"
   ]
  },
  {
   "cell_type": "code",
   "execution_count": 30,
   "id": "dbb3a1a6-6207-41e0-a4ce-3068ad51ba9b",
   "metadata": {},
   "outputs": [],
   "source": [
    "xyz_cam1 = np_cam1[['x','y','z']]"
   ]
  },
  {
   "cell_type": "code",
   "execution_count": 31,
   "id": "cff3c1a8-1ab2-4a76-bcb0-4cc5114d097f",
   "metadata": {},
   "outputs": [],
   "source": [
    "xyz_cam2 = np_cam2[['x','y','z']]"
   ]
  },
  {
   "cell_type": "code",
   "execution_count": 47,
   "id": "488a14c6-af5c-46ee-af2d-1bd1511391d5",
   "metadata": {},
   "outputs": [],
   "source": [
    "points_cam1 = np.column_stack([xyz_cam1['x'],xyz_cam1['y'],xyz_cam1['z']])"
   ]
  },
  {
   "cell_type": "code",
   "execution_count": 50,
   "id": "c72fca2f-2ee3-483e-b24c-a5863c38832c",
   "metadata": {},
   "outputs": [],
   "source": [
    "points_cam2 = np.column_stack([xyz_cam2['x'],xyz_cam2['y'],xyz_cam2['z']])"
   ]
  },
  {
   "cell_type": "code",
   "execution_count": 49,
   "id": "62d6923e-a6bd-4afb-8b94-94b217e158c7",
   "metadata": {
    "scrolled": true
   },
   "outputs": [],
   "source": [
    "tree_cam1 = scipy.spatial.KDTree(points_cam1)"
   ]
  },
  {
   "cell_type": "code",
   "execution_count": 51,
   "id": "8c72fe08-fc59-4d15-923c-ec8c3a8941f3",
   "metadata": {},
   "outputs": [],
   "source": [
    "tree_cam2 = scipy.spatial.KDTree(points_cam2)"
   ]
  },
  {
   "cell_type": "code",
   "execution_count": 52,
   "id": "39e92099-e980-4bc7-aa71-dffd5cbfb907",
   "metadata": {},
   "outputs": [],
   "source": [
    "dists_1to2, indices_1to2 = tree_cam2.query(points_cam1)"
   ]
  },
  {
   "cell_type": "code",
   "execution_count": 61,
   "id": "b347e4a6-2fa0-4063-a8d7-f18c21795b8d",
   "metadata": {},
   "outputs": [],
   "source": [
    "dists_2to1, indices_2to1 = tree_cam1.query(points_cam2)"
   ]
  },
  {
   "cell_type": "code",
   "execution_count": 62,
   "id": "0500de05-c347-4e00-9b90-84a316ee855a",
   "metadata": {},
   "outputs": [
    {
     "data": {
      "text/plain": [
       "(0.011494501320109388, 0.011494501320109388)"
      ]
     },
     "execution_count": 62,
     "metadata": {},
     "output_type": "execute_result"
    }
   ],
   "source": [
    "min(dists_1to2), min(dists_2to1)"
   ]
  },
  {
   "cell_type": "code",
   "execution_count": 64,
   "id": "4edbd8d7-d8cd-4742-a9af-58b3494b1eea",
   "metadata": {},
   "outputs": [
    {
     "data": {
      "text/plain": [
       "(0.44958586087031543, 0.41304563137057015)"
      ]
     },
     "execution_count": 64,
     "metadata": {},
     "output_type": "execute_result"
    }
   ],
   "source": [
    "max(dists_1to2), max(dists_2to1)"
   ]
  },
  {
   "cell_type": "code",
   "execution_count": 67,
   "id": "3dc82681-0c5e-4963-afec-e71cccb337a1",
   "metadata": {},
   "outputs": [],
   "source": [
    "histogram_1to2, edges_1to2 = np.histogram(dists_1to2, bins=100)"
   ]
  },
  {
   "cell_type": "code",
   "execution_count": 68,
   "id": "515b7f3d-1e9b-4a3a-8686-f0e29427c357",
   "metadata": {},
   "outputs": [],
   "source": [
    "histogram_2to1, edges_2to1 = np.histogram(dists_2to1, bins=100)"
   ]
  },
  {
   "cell_type": "code",
   "execution_count": 69,
   "id": "45158055-5751-4d99-b26d-1c86e8a3b05e",
   "metadata": {},
   "outputs": [
    {
     "data": {
      "text/plain": [
       "(array([3545, 5043, 5956, 4850,  516,  553,  558,  513,  482,  482,  489,\n",
       "         496,  493,  507,  504,  500,  505,  517,  528,  520,  528,  529,\n",
       "         536,  535,  550,  553,  543,  504,  603,  576,  555,  548,  566,\n",
       "         549,  550,  560,  555,  557,  551,  556,  550,  552,  539,  552,\n",
       "         545,  526,  529,  535,  527,  494,  514,  508,  506,  510,  510,\n",
       "         481,  492,  477,  486,  463,  474,  489,  461,  469,  447,  439,\n",
       "         423,  500,  425,  423,  431,  421,  441,  415,  421,  388,  410,\n",
       "         424,  391,  362,  416,  387,  357,  378,  385,  353,  344,  377,\n",
       "         330,  332,  361,  294,  330,  275,  266,  266,  195,  214,  140,\n",
       "         161]),\n",
       " array([0.0114945 , 0.01587541, 0.02025633, 0.02463724, 0.02901816,\n",
       "        0.03339907, 0.03777998, 0.0421609 , 0.04654181, 0.05092272,\n",
       "        0.05530364, 0.05968455, 0.06406546, 0.06844638, 0.07282729,\n",
       "        0.07720821, 0.08158912, 0.08597003, 0.09035095, 0.09473186,\n",
       "        0.09911277, 0.10349369, 0.1078746 , 0.11225551, 0.11663643,\n",
       "        0.12101734, 0.12539825, 0.12977917, 0.13416008, 0.138541  ,\n",
       "        0.14292191, 0.14730282, 0.15168374, 0.15606465, 0.16044556,\n",
       "        0.16482648, 0.16920739, 0.1735883 , 0.17796922, 0.18235013,\n",
       "        0.18673105, 0.19111196, 0.19549287, 0.19987379, 0.2042547 ,\n",
       "        0.20863561, 0.21301653, 0.21739744, 0.22177835, 0.22615927,\n",
       "        0.23054018, 0.23492109, 0.23930201, 0.24368292, 0.24806384,\n",
       "        0.25244475, 0.25682566, 0.26120658, 0.26558749, 0.2699684 ,\n",
       "        0.27434932, 0.27873023, 0.28311114, 0.28749206, 0.29187297,\n",
       "        0.29625389, 0.3006348 , 0.30501571, 0.30939663, 0.31377754,\n",
       "        0.31815845, 0.32253937, 0.32692028, 0.33130119, 0.33568211,\n",
       "        0.34006302, 0.34444393, 0.34882485, 0.35320576, 0.35758668,\n",
       "        0.36196759, 0.3663485 , 0.37072942, 0.37511033, 0.37949124,\n",
       "        0.38387216, 0.38825307, 0.39263398, 0.3970149 , 0.40139581,\n",
       "        0.40577672, 0.41015764, 0.41453855, 0.41891947, 0.42330038,\n",
       "        0.42768129, 0.43206221, 0.43644312, 0.44082403, 0.44520495,\n",
       "        0.44958586]))"
      ]
     },
     "execution_count": 69,
     "metadata": {},
     "output_type": "execute_result"
    }
   ],
   "source": [
    "histogram_1to2, edges_1to2"
   ]
  },
  {
   "cell_type": "code",
   "execution_count": 70,
   "id": "6ed42fb1-2aae-42d1-975d-12ce15b72e93",
   "metadata": {},
   "outputs": [
    {
     "data": {
      "text/plain": [
       "(array([3545, 5043, 5956, 4850,  516,  553,  558,  513,  482,  482,  489,\n",
       "         496,  493,  507,  504,  500,  505,  517,  528,  520,  528,  529,\n",
       "         536,  535,  550,  553,  543,  504,  603,  576,  555,  548,  566,\n",
       "         549,  550,  560,  555,  557,  551,  556,  550,  552,  539,  552,\n",
       "         545,  526,  529,  535,  527,  494,  514,  508,  506,  510,  510,\n",
       "         481,  492,  477,  486,  463,  474,  489,  461,  469,  447,  439,\n",
       "         423,  500,  425,  423,  431,  421,  441,  415,  421,  388,  410,\n",
       "         424,  391,  362,  416,  387,  357,  378,  385,  353,  344,  377,\n",
       "         330,  332,  361,  294,  330,  275,  266,  266,  195,  214,  140,\n",
       "         161]),\n",
       " array([0.0114945 , 0.01587541, 0.02025633, 0.02463724, 0.02901816,\n",
       "        0.03339907, 0.03777998, 0.0421609 , 0.04654181, 0.05092272,\n",
       "        0.05530364, 0.05968455, 0.06406546, 0.06844638, 0.07282729,\n",
       "        0.07720821, 0.08158912, 0.08597003, 0.09035095, 0.09473186,\n",
       "        0.09911277, 0.10349369, 0.1078746 , 0.11225551, 0.11663643,\n",
       "        0.12101734, 0.12539825, 0.12977917, 0.13416008, 0.138541  ,\n",
       "        0.14292191, 0.14730282, 0.15168374, 0.15606465, 0.16044556,\n",
       "        0.16482648, 0.16920739, 0.1735883 , 0.17796922, 0.18235013,\n",
       "        0.18673105, 0.19111196, 0.19549287, 0.19987379, 0.2042547 ,\n",
       "        0.20863561, 0.21301653, 0.21739744, 0.22177835, 0.22615927,\n",
       "        0.23054018, 0.23492109, 0.23930201, 0.24368292, 0.24806384,\n",
       "        0.25244475, 0.25682566, 0.26120658, 0.26558749, 0.2699684 ,\n",
       "        0.27434932, 0.27873023, 0.28311114, 0.28749206, 0.29187297,\n",
       "        0.29625389, 0.3006348 , 0.30501571, 0.30939663, 0.31377754,\n",
       "        0.31815845, 0.32253937, 0.32692028, 0.33130119, 0.33568211,\n",
       "        0.34006302, 0.34444393, 0.34882485, 0.35320576, 0.35758668,\n",
       "        0.36196759, 0.3663485 , 0.37072942, 0.37511033, 0.37949124,\n",
       "        0.38387216, 0.38825307, 0.39263398, 0.3970149 , 0.40139581,\n",
       "        0.40577672, 0.41015764, 0.41453855, 0.41891947, 0.42330038,\n",
       "        0.42768129, 0.43206221, 0.43644312, 0.44082403, 0.44520495,\n",
       "        0.44958586]))"
      ]
     },
     "execution_count": 70,
     "metadata": {},
     "output_type": "execute_result"
    }
   ],
   "source": [
    "histogram_1to2,edges_1to2"
   ]
  },
  {
   "cell_type": "code",
   "execution_count": null,
   "id": "0fc8072c-6776-410d-9779-e86530a434f5",
   "metadata": {},
   "outputs": [],
   "source": []
  }
 ],
 "metadata": {
  "kernelspec": {
   "display_name": "Python 3 (ipykernel)",
   "language": "python",
   "name": "python3"
  },
  "language_info": {
   "codemirror_mode": {
    "name": "ipython",
    "version": 3
   },
   "file_extension": ".py",
   "mimetype": "text/x-python",
   "name": "python",
   "nbconvert_exporter": "python",
   "pygments_lexer": "ipython3",
   "version": "3.10.13"
  }
 },
 "nbformat": 4,
 "nbformat_minor": 5
}
