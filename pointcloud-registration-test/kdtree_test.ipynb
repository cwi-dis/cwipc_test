{
 "cells": [
  {
   "cell_type": "code",
   "execution_count": 1,
   "id": "58bb319c-ecff-4d9c-894e-2e7f35bd1b89",
   "metadata": {},
   "outputs": [],
   "source": [
    "import numpy as np"
   ]
  },
  {
   "cell_type": "code",
   "execution_count": 2,
   "id": "d484093d-1b4d-46dc-9bcb-2f2382031f19",
   "metadata": {},
   "outputs": [],
   "source": [
    "import scipy.spatial"
   ]
  },
  {
   "cell_type": "code",
   "execution_count": 3,
   "id": "45158055-5751-4d99-b26d-1c86e8a3b05e",
   "metadata": {},
   "outputs": [],
   "source": [
    "from matplotlib import pyplot as plt"
   ]
  },
  {
   "cell_type": "code",
   "execution_count": 4,
   "id": "5f7a36a7-e49b-4e23-bfa2-6b7f34e07688",
   "metadata": {},
   "outputs": [],
   "source": [
    "import cwipc"
   ]
  },
  {
   "cell_type": "code",
   "execution_count": 5,
   "id": "60ef62ab-3fd5-4d75-a7c8-5bf83a2221f0",
   "metadata": {},
   "outputs": [
    {
     "name": "stderr",
     "output_type": "stream",
     "text": [
      "[pcl::PLYReader] vrsmall/boxes.ply:25: property 'float32 focal' of element 'camera' is not handled\n",
      "[pcl::PLYReader] vrsmall/boxes.ply:26: property 'float32 scalex' of element 'camera' is not handled\n",
      "[pcl::PLYReader] vrsmall/boxes.ply:27: property 'float32 scaley' of element 'camera' is not handled\n",
      "[pcl::PLYReader] vrsmall/boxes.ply:28: property 'float32 centerx' of element 'camera' is not handled\n",
      "[pcl::PLYReader] vrsmall/boxes.ply:29: property 'float32 centery' of element 'camera' is not handled\n",
      "[pcl::PLYReader] vrsmall/boxes.ply:32: property 'float32 k1' of element 'camera' is not handled\n",
      "[pcl::PLYReader] vrsmall/boxes.ply:33: property 'float32 k2' of element 'camera' is not handled\n"
     ]
    }
   ],
   "source": [
    "pc = cwipc.cwipc_read(\"vrsmall/boxes.ply\", 0)"
   ]
  },
  {
   "cell_type": "code",
   "execution_count": 6,
   "id": "614eac80-a8b5-4fc8-ad03-76bedb8cad17",
   "metadata": {},
   "outputs": [],
   "source": [
    "# pc = cwipc.cwipc_read(\"genregtest03/genregtest03.ply\", 0)"
   ]
  },
  {
   "cell_type": "code",
   "execution_count": 7,
   "id": "0a6510bb-dfc1-4168-915e-ca7c9fbc4888",
   "metadata": {},
   "outputs": [],
   "source": [
    "# pc = cwipc.cwipc_read(\"genregtest003/genregtest003.ply\", 0)"
   ]
  },
  {
   "cell_type": "code",
   "execution_count": 8,
   "id": "2a3257fd-fc9d-4e1d-8787-e9dfc6c83f8f",
   "metadata": {},
   "outputs": [],
   "source": [
    "pc_cam1 = cwipc.cwipc_tilefilter(pc, 1)\n",
    "np_cam1 = np.ctypeslib.as_array(pc_cam1.get_points())"
   ]
  },
  {
   "cell_type": "code",
   "execution_count": 9,
   "id": "fdf11f99-c774-4add-bb1b-c653b46a7d91",
   "metadata": {},
   "outputs": [],
   "source": [
    "pc_cam2 = cwipc.cwipc_tilefilter(pc, 2)\n",
    "np_cam2 = np.ctypeslib.as_array(pc_cam2.get_points())"
   ]
  },
  {
   "cell_type": "code",
   "execution_count": 10,
   "id": "a2b6bf0e-f7de-4be1-afe2-7928b006359a",
   "metadata": {},
   "outputs": [],
   "source": [
    "pc_cam4 = cwipc.cwipc_tilefilter(pc, 4)\n",
    "np_cam4 = np.ctypeslib.as_array(pc_cam4.get_points())"
   ]
  },
  {
   "cell_type": "code",
   "execution_count": 11,
   "id": "552a92c0-daba-4a35-b4a5-aac31850e873",
   "metadata": {},
   "outputs": [],
   "source": [
    "pc_cam8 = cwipc.cwipc_tilefilter(pc, 8)\n",
    "np_cam8 = np.ctypeslib.as_array(pc_cam8.get_points())"
   ]
  },
  {
   "cell_type": "code",
   "execution_count": 12,
   "id": "dbb3a1a6-6207-41e0-a4ce-3068ad51ba9b",
   "metadata": {},
   "outputs": [],
   "source": [
    "xyz_cam1 = np_cam1[['x','y','z']]"
   ]
  },
  {
   "cell_type": "code",
   "execution_count": 13,
   "id": "cff3c1a8-1ab2-4a76-bcb0-4cc5114d097f",
   "metadata": {},
   "outputs": [],
   "source": [
    "xyz_cam2 = np_cam2[['x','y','z']]"
   ]
  },
  {
   "cell_type": "code",
   "execution_count": 14,
   "id": "97d3a8ff-f53b-46fe-a722-5cea79ca6fa6",
   "metadata": {},
   "outputs": [],
   "source": [
    "xyz_cam4 = np_cam4[['x','y','z']]"
   ]
  },
  {
   "cell_type": "code",
   "execution_count": 15,
   "id": "94a8edc9-6a33-44e8-be0b-8ce97bfe45fa",
   "metadata": {},
   "outputs": [],
   "source": [
    "xyz_cam8 = np_cam8[['x','y','z']]"
   ]
  },
  {
   "cell_type": "code",
   "execution_count": 16,
   "id": "488a14c6-af5c-46ee-af2d-1bd1511391d5",
   "metadata": {},
   "outputs": [],
   "source": [
    "points_cam1 = np.column_stack([xyz_cam1['x'],xyz_cam1['y'],xyz_cam1['z']])"
   ]
  },
  {
   "cell_type": "code",
   "execution_count": 17,
   "id": "c72fca2f-2ee3-483e-b24c-a5863c38832c",
   "metadata": {},
   "outputs": [],
   "source": [
    "points_cam2 = np.column_stack([xyz_cam2['x'],xyz_cam2['y'],xyz_cam2['z']])"
   ]
  },
  {
   "cell_type": "code",
   "execution_count": 18,
   "id": "05be00e6-d630-4a42-9ef7-7717c3e14b6d",
   "metadata": {},
   "outputs": [],
   "source": [
    "points_cam4 = np.column_stack([xyz_cam4['x'],xyz_cam4['y'],xyz_cam4['z']])"
   ]
  },
  {
   "cell_type": "code",
   "execution_count": 19,
   "id": "5af1b457-99c3-40d4-9fc8-e923bc2c11ac",
   "metadata": {},
   "outputs": [],
   "source": [
    "points_cam8 = np.column_stack([xyz_cam8['x'],xyz_cam8['y'],xyz_cam8['z']])"
   ]
  },
  {
   "cell_type": "code",
   "execution_count": 20,
   "id": "8c72fe08-fc59-4d15-923c-ec8c3a8941f3",
   "metadata": {},
   "outputs": [],
   "source": [
    "tree_cam1 = scipy.spatial.KDTree(points_cam1)"
   ]
  },
  {
   "cell_type": "code",
   "execution_count": 21,
   "id": "7fdc14ff-58b4-49a6-bbbf-484de0d7fe53",
   "metadata": {},
   "outputs": [],
   "source": [
    "tree_cam2 = scipy.spatial.KDTree(points_cam2)"
   ]
  },
  {
   "cell_type": "code",
   "execution_count": 22,
   "id": "2c986a79-8be4-46fc-b39f-3ae70d2c7400",
   "metadata": {},
   "outputs": [],
   "source": [
    "tree_cam4 = scipy.spatial.KDTree(points_cam4)"
   ]
  },
  {
   "cell_type": "code",
   "execution_count": 23,
   "id": "27d29acd-4c43-4a73-8db2-c21c8b5881e0",
   "metadata": {},
   "outputs": [],
   "source": [
    "tree_cam8 = scipy.spatial.KDTree(points_cam8)"
   ]
  },
  {
   "cell_type": "code",
   "execution_count": 24,
   "id": "39e92099-e980-4bc7-aa71-dffd5cbfb907",
   "metadata": {},
   "outputs": [],
   "source": [
    "dists_1to2, _ = tree_cam2.query(points_cam1)"
   ]
  },
  {
   "cell_type": "code",
   "execution_count": 25,
   "id": "95a8bf4b-8e35-4a32-b744-ac690434b0fe",
   "metadata": {},
   "outputs": [],
   "source": [
    "dists_1to4, _ = tree_cam4.query(points_cam1)"
   ]
  },
  {
   "cell_type": "code",
   "execution_count": 26,
   "id": "ee38c123-0726-40b4-97b5-d238ff388b30",
   "metadata": {},
   "outputs": [],
   "source": [
    "dists_1to8, _ = tree_cam8.query(points_cam1)"
   ]
  },
  {
   "cell_type": "code",
   "execution_count": 27,
   "id": "6613d4c3-83a5-44a0-82f1-5f5a07b0d134",
   "metadata": {},
   "outputs": [],
   "source": [
    "dists_2to4, _ = tree_cam4.query(points_cam2)"
   ]
  },
  {
   "cell_type": "code",
   "execution_count": 28,
   "id": "c5c8e317-5c7a-43f8-bc5a-d40e2f0bc780",
   "metadata": {},
   "outputs": [],
   "source": [
    "dists_2to8, _ = tree_cam8.query(points_cam2)"
   ]
  },
  {
   "cell_type": "code",
   "execution_count": 29,
   "id": "ea0b9d0b-207f-4b78-ac70-9b4e5253299f",
   "metadata": {},
   "outputs": [],
   "source": [
    "dists_4to8, _ = tree_cam8.query(points_cam4)"
   ]
  },
  {
   "cell_type": "code",
   "execution_count": 42,
   "id": "3dc82681-0c5e-4963-afec-e71cccb337a1",
   "metadata": {},
   "outputs": [],
   "source": [
    "histogram_1to2, edges_1to2 = np.histogram(dists_1to2, bins=400)\n",
    "cumsum_1to2 = np.cumsum(histogram_1to2)"
   ]
  },
  {
   "cell_type": "code",
   "execution_count": 43,
   "id": "bd8b929b-28b1-41ff-b6b7-bc25e5e6a053",
   "metadata": {},
   "outputs": [],
   "source": [
    "histogram_1to4, edges_1to4 = np.histogram(dists_1to4, bins=400)\n",
    "cumsum_1to4 = np.cumsum(histogram_1to4)"
   ]
  },
  {
   "cell_type": "code",
   "execution_count": 44,
   "id": "2917ed18-026d-493d-bb4e-277ddd00b5bc",
   "metadata": {},
   "outputs": [],
   "source": [
    "histogram_1to8, edges_1to8 = np.histogram(dists_1to8, bins=400)\n",
    "cumsum_1to8 = np.cumsum(histogram_1to8)"
   ]
  },
  {
   "cell_type": "code",
   "execution_count": 45,
   "id": "c7bd986e-c7a2-4dd6-b2cf-2fef51043fa5",
   "metadata": {},
   "outputs": [],
   "source": [
    "histogram_2to4, edges_2to4 = np.histogram(dists_2to4, bins=400)\n",
    "cumsum_2to4 = np.cumsum(histogram_2to4)"
   ]
  },
  {
   "cell_type": "code",
   "execution_count": 46,
   "id": "15226ba7-3a1a-4b9c-b613-41b1b8862cb3",
   "metadata": {},
   "outputs": [],
   "source": [
    "histogram_2to8, edges_2to8 = np.histogram(dists_2to8, bins=400)\n",
    "cumsum_2to8 = np.cumsum(histogram_2to8)"
   ]
  },
  {
   "cell_type": "code",
   "execution_count": 47,
   "id": "d050e4e0-e299-4cc7-967b-cf6e2ad938e1",
   "metadata": {},
   "outputs": [],
   "source": [
    "histogram_4to8, edges_4to8 = np.histogram(dists_4to8, bins=400)\n",
    "cumsum_4to8 = np.cumsum(histogram_4to8)"
   ]
  },
  {
   "cell_type": "code",
   "execution_count": 50,
   "id": "6ed42fb1-2aae-42d1-975d-12ce15b72e93",
   "metadata": {
    "scrolled": true
   },
   "outputs": [
    {
     "data": {
      "image/png": "[encoded data removed]",
      "text/plain": [
       "<Figure size 640x480 with 1 Axes>"
      ]
     },
     "metadata": {},
     "output_type": "display_data"
    }
   ],
   "source": [
    "plt.plot(edges_1to2[1:], cumsum_1to2, label=\"1-2\")\n",
    "plt.plot(edges_1to4[1:], cumsum_1to4, label=\"1-4\")\n",
    "plt.plot(edges_1to8[1:], cumsum_1to8, label=\"1-8\")\n",
    "plt.plot(edges_2to4[1:], cumsum_2to4, label=\"2-4\")\n",
    "plt.plot(edges_2to8[1:], cumsum_2to8, label=\"2-8\")\n",
    "plt.plot(edges_4to8[1:], cumsum_4to8, label=\"4-8\")\n",
    "plt.title(\"Cumulative point distances between all cameras\")\n",
    "plt.legend()\n",
    "plt.savefig(\"cumdist.png\")\n",
    "plt.show()"
   ]
  },
  {
   "cell_type": "code",
   "execution_count": null,
   "id": "981ffd36-c993-4a54-8b5e-9eba6742acfa",
   "metadata": {},
   "outputs": [],
   "source": []
  }
 ],
 "metadata": {
  "kernelspec": {
   "display_name": "Python 3 (ipykernel)",
   "language": "python",
   "name": "python3"
  },
  "language_info": {
   "codemirror_mode": {
    "name": "ipython",
    "version": 3
   },
   "file_extension": ".py",
   "mimetype": "text/x-python",
   "name": "python",
   "nbconvert_exporter": "python",
   "pygments_lexer": "ipython3",
   "version": "3.10.13"
  }
 },
 "nbformat": 4,
 "nbformat_minor": 5
}
