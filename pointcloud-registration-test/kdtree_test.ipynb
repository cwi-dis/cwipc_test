{
 "cells": [
  {
   "cell_type": "code",
   "execution_count": 1,
   "id": "58bb319c-ecff-4d9c-894e-2e7f35bd1b89",
   "metadata": {},
   "outputs": [],
   "source": [
    "import numpy as np"
   ]
  },
  {
   "cell_type": "code",
   "execution_count": 2,
   "id": "d484093d-1b4d-46dc-9bcb-2f2382031f19",
   "metadata": {},
   "outputs": [],
   "source": [
    "import scipy.spatial"
   ]
  },
  {
   "cell_type": "code",
   "execution_count": 3,
   "id": "5f7a36a7-e49b-4e23-bfa2-6b7f34e07688",
   "metadata": {},
   "outputs": [],
   "source": [
    "import cwipc"
   ]
  },
  {
   "cell_type": "code",
   "execution_count": 38,
   "id": "60ef62ab-3fd5-4d75-a7c8-5bf83a2221f0",
   "metadata": {},
   "outputs": [
    {
     "name": "stderr",
     "output_type": "stream",
     "text": [
      "[pcl::PLYReader] vrsmall/boxes.ply:25: property 'float32 focal' of element 'camera' is not handled\n",
      "[pcl::PLYReader] vrsmall/boxes.ply:26: property 'float32 scalex' of element 'camera' is not handled\n",
      "[pcl::PLYReader] vrsmall/boxes.ply:27: property 'float32 scaley' of element 'camera' is not handled\n",
      "[pcl::PLYReader] vrsmall/boxes.ply:28: property 'float32 centerx' of element 'camera' is not handled\n",
      "[pcl::PLYReader] vrsmall/boxes.ply:29: property 'float32 centery' of element 'camera' is not handled\n",
      "[pcl::PLYReader] vrsmall/boxes.ply:32: property 'float32 k1' of element 'camera' is not handled\n",
      "[pcl::PLYReader] vrsmall/boxes.ply:33: property 'float32 k2' of element 'camera' is not handled\n"
     ]
    }
   ],
   "source": [
    "pc = cwipc.cwipc_read(\"vrsmall/boxes.ply\", 0)"
   ]
  },
  {
   "cell_type": "code",
   "execution_count": 39,
   "id": "614eac80-a8b5-4fc8-ad03-76bedb8cad17",
   "metadata": {},
   "outputs": [],
   "source": [
    "# pc = cwipc.cwipc_read(\"genregtest03/genregtest03.ply\", 0)"
   ]
  },
  {
   "cell_type": "code",
   "execution_count": 40,
   "id": "0a6510bb-dfc1-4168-915e-ca7c9fbc4888",
   "metadata": {},
   "outputs": [],
   "source": [
    "# pc = cwipc.cwipc_read(\"genregtest003/genregtest003.ply\", 0)"
   ]
  },
  {
   "cell_type": "code",
   "execution_count": 151,
   "id": "2a3257fd-fc9d-4e1d-8787-e9dfc6c83f8f",
   "metadata": {},
   "outputs": [],
   "source": [
    "pc_cam1 = cwipc.cwipc_tilefilter(pc, 1)\n",
    "np_cam1 = np.ctypeslib.as_array(pc_cam1.get_points())"
   ]
  },
  {
   "cell_type": "code",
   "execution_count": 152,
   "id": "fdf11f99-c774-4add-bb1b-c653b46a7d91",
   "metadata": {},
   "outputs": [],
   "source": [
    "pc_cam2 = cwipc.cwipc_tilefilter(pc, 2)\n",
    "np_cam2 = np.ctypeslib.as_array(pc_cam2.get_points())"
   ]
  },
  {
   "cell_type": "code",
   "execution_count": 154,
   "id": "a2b6bf0e-f7de-4be1-afe2-7928b006359a",
   "metadata": {},
   "outputs": [],
   "source": [
    "pc_cam4 = cwipc.cwipc_tilefilter(pc, 4)\n",
    "np_cam4 = np.ctypeslib.as_array(pc_cam4.get_points())"
   ]
  },
  {
   "cell_type": "code",
   "execution_count": 155,
   "id": "552a92c0-daba-4a35-b4a5-aac31850e873",
   "metadata": {},
   "outputs": [],
   "source": [
    "pc_cam8 = cwipc.cwipc_tilefilter(pc, 8)\n",
    "np_cam8 = np.ctypeslib.as_array(pc_cam8.get_points())"
   ]
  },
  {
   "cell_type": "code",
   "execution_count": 156,
   "id": "dbb3a1a6-6207-41e0-a4ce-3068ad51ba9b",
   "metadata": {},
   "outputs": [],
   "source": [
    "xyz_cam1 = np_cam1[['x','y','z']]"
   ]
  },
  {
   "cell_type": "code",
   "execution_count": 157,
   "id": "cff3c1a8-1ab2-4a76-bcb0-4cc5114d097f",
   "metadata": {},
   "outputs": [],
   "source": [
    "xyz_cam2 = np_cam2[['x','y','z']]"
   ]
  },
  {
   "cell_type": "code",
   "execution_count": 158,
   "id": "97d3a8ff-f53b-46fe-a722-5cea79ca6fa6",
   "metadata": {},
   "outputs": [],
   "source": [
    "xyz_cam4 = np_cam4[['x','y','z']]"
   ]
  },
  {
   "cell_type": "code",
   "execution_count": 159,
   "id": "94a8edc9-6a33-44e8-be0b-8ce97bfe45fa",
   "metadata": {},
   "outputs": [],
   "source": [
    "xyz_cam8 = np_cam8[['x','y','z']]"
   ]
  },
  {
   "cell_type": "code",
   "execution_count": 160,
   "id": "488a14c6-af5c-46ee-af2d-1bd1511391d5",
   "metadata": {},
   "outputs": [],
   "source": [
    "points_cam1 = np.column_stack([xyz_cam1['x'],xyz_cam1['y'],xyz_cam1['z']])"
   ]
  },
  {
   "cell_type": "code",
   "execution_count": 161,
   "id": "c72fca2f-2ee3-483e-b24c-a5863c38832c",
   "metadata": {},
   "outputs": [],
   "source": [
    "points_cam2 = np.column_stack([xyz_cam2['x'],xyz_cam2['y'],xyz_cam2['z']])"
   ]
  },
  {
   "cell_type": "code",
   "execution_count": 162,
   "id": "05be00e6-d630-4a42-9ef7-7717c3e14b6d",
   "metadata": {},
   "outputs": [],
   "source": [
    "points_cam4 = np.column_stack([xyz_cam4['x'],xyz_cam4['y'],xyz_cam4['z']])"
   ]
  },
  {
   "cell_type": "code",
   "execution_count": 163,
   "id": "5af1b457-99c3-40d4-9fc8-e923bc2c11ac",
   "metadata": {},
   "outputs": [],
   "source": [
    "points_cam8 = np.column_stack([xyz_cam8['x'],xyz_cam8['y'],xyz_cam8['z']])"
   ]
  },
  {
   "cell_type": "code",
   "execution_count": 165,
   "id": "8c72fe08-fc59-4d15-923c-ec8c3a8941f3",
   "metadata": {},
   "outputs": [],
   "source": [
    "tree_cam1 = scipy.spatial.KDTree(points_cam1)"
   ]
  },
  {
   "cell_type": "code",
   "execution_count": 166,
   "id": "7fdc14ff-58b4-49a6-bbbf-484de0d7fe53",
   "metadata": {},
   "outputs": [],
   "source": [
    "tree_cam2 = scipy.spatial.KDTree(points_cam2)"
   ]
  },
  {
   "cell_type": "code",
   "execution_count": 167,
   "id": "2c986a79-8be4-46fc-b39f-3ae70d2c7400",
   "metadata": {},
   "outputs": [],
   "source": [
    "tree_cam4 = scipy.spatial.KDTree(points_cam4)"
   ]
  },
  {
   "cell_type": "code",
   "execution_count": 168,
   "id": "27d29acd-4c43-4a73-8db2-c21c8b5881e0",
   "metadata": {},
   "outputs": [],
   "source": [
    "tree_cam8 = scipy.spatial.KDTree(points_cam8)"
   ]
  },
  {
   "cell_type": "code",
   "execution_count": 169,
   "id": "39e92099-e980-4bc7-aa71-dffd5cbfb907",
   "metadata": {},
   "outputs": [],
   "source": [
    "dists_1to2, _ = tree_cam2.query(points_cam1)"
   ]
  },
  {
   "cell_type": "code",
   "execution_count": 170,
   "id": "95a8bf4b-8e35-4a32-b744-ac690434b0fe",
   "metadata": {},
   "outputs": [],
   "source": [
    "dists_1to4, _ = tree_cam4.query(points_cam1)"
   ]
  },
  {
   "cell_type": "code",
   "execution_count": 171,
   "id": "ee38c123-0726-40b4-97b5-d238ff388b30",
   "metadata": {},
   "outputs": [],
   "source": [
    "dists_1to8, _ = tree_cam8.query(points_cam1)"
   ]
  },
  {
   "cell_type": "code",
   "execution_count": 172,
   "id": "6613d4c3-83a5-44a0-82f1-5f5a07b0d134",
   "metadata": {},
   "outputs": [],
   "source": [
    "dists_2to4, _ = tree_cam4.query(points_cam2)"
   ]
  },
  {
   "cell_type": "code",
   "execution_count": 173,
   "id": "c5c8e317-5c7a-43f8-bc5a-d40e2f0bc780",
   "metadata": {},
   "outputs": [],
   "source": [
    "dists_2to8, _ = tree_cam8.query(points_cam2)"
   ]
  },
  {
   "cell_type": "code",
   "execution_count": 174,
   "id": "ea0b9d0b-207f-4b78-ac70-9b4e5253299f",
   "metadata": {},
   "outputs": [],
   "source": [
    "dists_4to8, _ = tree_cam8.query(points_cam4)"
   ]
  },
  {
   "cell_type": "code",
   "execution_count": 175,
   "id": "3dc82681-0c5e-4963-afec-e71cccb337a1",
   "metadata": {},
   "outputs": [],
   "source": [
    "histogram_1to2, edges_1to2 = np.histogram(dists_1to2, bins=400)"
   ]
  },
  {
   "cell_type": "code",
   "execution_count": 176,
   "id": "bd8b929b-28b1-41ff-b6b7-bc25e5e6a053",
   "metadata": {},
   "outputs": [],
   "source": [
    "histogram_1to4, edges_1to4 = np.histogram(dists_1to4, bins=400)"
   ]
  },
  {
   "cell_type": "code",
   "execution_count": 177,
   "id": "2917ed18-026d-493d-bb4e-277ddd00b5bc",
   "metadata": {},
   "outputs": [],
   "source": [
    "histogram_1to8, edges_1to8 = np.histogram(dists_1to8, bins=400)"
   ]
  },
  {
   "cell_type": "code",
   "execution_count": 178,
   "id": "c7bd986e-c7a2-4dd6-b2cf-2fef51043fa5",
   "metadata": {},
   "outputs": [],
   "source": [
    "histogram_2to4, edges_2to4 = np.histogram(dists_2to4, bins=400)"
   ]
  },
  {
   "cell_type": "code",
   "execution_count": 179,
   "id": "15226ba7-3a1a-4b9c-b613-41b1b8862cb3",
   "metadata": {},
   "outputs": [],
   "source": [
    "histogram_2to8, edges_2to8 = np.histogram(dists_2to8, bins=400)"
   ]
  },
  {
   "cell_type": "code",
   "execution_count": 180,
   "id": "d050e4e0-e299-4cc7-967b-cf6e2ad938e1",
   "metadata": {},
   "outputs": [],
   "source": [
    "histogram_4to8, edges_4to8 = np.histogram(dists_4to8, bins=400)"
   ]
  },
  {
   "cell_type": "code",
   "execution_count": 181,
   "id": "45158055-5751-4d99-b26d-1c86e8a3b05e",
   "metadata": {},
   "outputs": [],
   "source": [
    "from matplotlib import pyplot as plt"
   ]
  },
  {
   "cell_type": "code",
   "execution_count": 184,
   "id": "6ed42fb1-2aae-42d1-975d-12ce15b72e93",
   "metadata": {
    "scrolled": true
   },
   "outputs": [
    {
     "data": {
      "image/png": "[encoded data removed]",
      "text/plain": [
       "<Figure size 640x480 with 1 Axes>"
      ]
     },
     "metadata": {},
     "output_type": "display_data"
    }
   ],
   "source": [
    "plt.plot(edges_1to2[1:], histogram_1to2)\n",
    "plt.title(\"Histogram - distances cam1 to cam2\")\n",
    "plt.show()"
   ]
  },
  {
   "cell_type": "code",
   "execution_count": 185,
   "id": "0fc8072c-6776-410d-9779-e86530a434f5",
   "metadata": {},
   "outputs": [
    {
     "data": {
      "text/plain": [
       "(array([ 3351, 15889, 16483,  8192,  4511,  3080,  2211,  1638,  1061,\n",
       "          748,   476,   316,   230,   227,   240,   197,   210,   243,\n",
       "          181,   213,   246,   188,   219,   259,   189,   235,   213,\n",
       "          212,   225,   193,   209,   187,   193,   208,   160,   174,\n",
       "          199,   145,   151,   161,   163,   144,   160,   117,   138,\n",
       "          137,   140,   119,   139,   119,   123,   116,   135,   116,\n",
       "          131,   113,   114,   121,   135,   107,   101,   118,   104,\n",
       "          139,   107,    97,   103,   105,   135,   107,   107,   100,\n",
       "           91,   118,   125,   120,   103,    85,    90,   135,   113,\n",
       "          115,   104,    73,   100,   127,    99,   104,   128,    85,\n",
       "          100,    95,   103,   111,   106,   122,    96,    77,    85,\n",
       "          119,   116,   114,    79,    87,    95,   117,   112,    99,\n",
       "           90,    80,   113,   105,   101,   102,    88,   108,    90,\n",
       "           90,   104,   123,    95,    95,    84,    77,   105,   134,\n",
       "           92,    83,    78,   107,   103,   119,    78,    97,   105,\n",
       "           98,    98,   104,    87,   105,   109,   109,    89,    84,\n",
       "           92,   103,    96,   116,    86,    69,   100,   111,   101,\n",
       "           98,    84,    73,   112,   103,    97,    88,    88,    85,\n",
       "           94,   101,   111,    94,    79,   104,    84,    94,   110,\n",
       "          102,   101,    86,    92,    95,    92,   104,   117,    82,\n",
       "          103,    83,   103,    95,   103,   115,    73,    76,    98,\n",
       "           92,    99,    87,    84,    80,   103,    95,    77,    68,\n",
       "           86,    95,    88,    93,    83,    76,    74,    83,    90,\n",
       "           91,   119,    82,    74,    76,    68,    86,    93,   109,\n",
       "           84,    69,    68,    92,    79,   111,    99,    77,    67,\n",
       "           69,    82,    68,    77,    95,   102,    91,    87,    55,\n",
       "           72,    87,    84,    82,    84,    68,    65,    78,    80,\n",
       "           84,    94,    84,    52,    54,    56,    70,    80,    95,\n",
       "           74,    69,    67,    62,    51,    76,    62,    76,    69,\n",
       "           73,    74,    66,    60,    55,    73,    74,    58,    69,\n",
       "           47,    62,    71,    67,    69,    73,    58,    56,    55,\n",
       "           65,    87,    72,    59,    57,    52,    59,    67,    78,\n",
       "           62,    50,    52,    53,    80,    59,    67,    53,    61,\n",
       "           64,    65,    67,    53,    57,    60,    61,    58,    64,\n",
       "           74,    49,    56,    52,    64,    55,    71,    78,    67,\n",
       "           61,    58,    63,    52,    70,    61,    58,    62,    68,\n",
       "           70,    59,    54,    48,    53,    69,    79,    72,    66,\n",
       "           55,    50,    59,    67,    85,    65,    62,    53,    58,\n",
       "           54,    67,    98,    79,    51,    63,    59,    72,    64,\n",
       "           58,    83,    75,    51,    75,    71,    69,    59,    80,\n",
       "           70,    57,    62,    59,    61,    55,    46,    60,    63,\n",
       "           52,    42,    40,    52,    50,    46,    54,    42,    50,\n",
       "           42,    50,    53,    37,    52,    45,    73,   111,   139,\n",
       "          186,   241,   283,   327,   285,   198,   113,    81,    44,\n",
       "           31,     5,     4,     2]),\n",
       " array([6.04435853e-05, 9.31988103e-04, 1.80353262e-03, 2.67507714e-03,\n",
       "        3.54662166e-03, 4.41816617e-03, 5.28971069e-03, 6.16125521e-03,\n",
       "        7.03279973e-03, 7.90434425e-03, 8.77588876e-03, 9.64743328e-03,\n",
       "        1.05189778e-02, 1.13905223e-02, 1.22620668e-02, 1.31336114e-02,\n",
       "        1.40051559e-02, 1.48767004e-02, 1.57482449e-02, 1.66197894e-02,\n",
       "        1.74913339e-02, 1.83628785e-02, 1.92344230e-02, 2.01059675e-02,\n",
       "        2.09775120e-02, 2.18490565e-02, 2.27206010e-02, 2.35921456e-02,\n",
       "        2.44636901e-02, 2.53352346e-02, 2.62067791e-02, 2.70783236e-02,\n",
       "        2.79498682e-02, 2.88214127e-02, 2.96929572e-02, 3.05645017e-02,\n",
       "        3.14360462e-02, 3.23075907e-02, 3.31791353e-02, 3.40506798e-02,\n",
       "        3.49222243e-02, 3.57937688e-02, 3.66653133e-02, 3.75368578e-02,\n",
       "        3.84084024e-02, 3.92799469e-02, 4.01514914e-02, 4.10230359e-02,\n",
       "        4.18945804e-02, 4.27661250e-02, 4.36376695e-02, 4.45092140e-02,\n",
       "        4.53807585e-02, 4.62523030e-02, 4.71238475e-02, 4.79953921e-02,\n",
       "        4.88669366e-02, 4.97384811e-02, 5.06100256e-02, 5.14815701e-02,\n",
       "        5.23531147e-02, 5.32246592e-02, 5.40962037e-02, 5.49677482e-02,\n",
       "        5.58392927e-02, 5.67108372e-02, 5.75823818e-02, 5.84539263e-02,\n",
       "        5.93254708e-02, 6.01970153e-02, 6.10685598e-02, 6.19401043e-02,\n",
       "        6.28116489e-02, 6.36831934e-02, 6.45547379e-02, 6.54262824e-02,\n",
       "        6.62978269e-02, 6.71693715e-02, 6.80409160e-02, 6.89124605e-02,\n",
       "        6.97840050e-02, 7.06555495e-02, 7.15270940e-02, 7.23986386e-02,\n",
       "        7.32701831e-02, 7.41417276e-02, 7.50132721e-02, 7.58848166e-02,\n",
       "        7.67563611e-02, 7.76279057e-02, 7.84994502e-02, 7.93709947e-02,\n",
       "        8.02425392e-02, 8.11140837e-02, 8.19856283e-02, 8.28571728e-02,\n",
       "        8.37287173e-02, 8.46002618e-02, 8.54718063e-02, 8.63433508e-02,\n",
       "        8.72148954e-02, 8.80864399e-02, 8.89579844e-02, 8.98295289e-02,\n",
       "        9.07010734e-02, 9.15726179e-02, 9.24441625e-02, 9.33157070e-02,\n",
       "        9.41872515e-02, 9.50587960e-02, 9.59303405e-02, 9.68018851e-02,\n",
       "        9.76734296e-02, 9.85449741e-02, 9.94165186e-02, 1.00288063e-01,\n",
       "        1.01159608e-01, 1.02031152e-01, 1.02902697e-01, 1.03774241e-01,\n",
       "        1.04645786e-01, 1.05517330e-01, 1.06388875e-01, 1.07260419e-01,\n",
       "        1.08131964e-01, 1.09003508e-01, 1.09875053e-01, 1.10746597e-01,\n",
       "        1.11618142e-01, 1.12489686e-01, 1.13361231e-01, 1.14232775e-01,\n",
       "        1.15104320e-01, 1.15975864e-01, 1.16847409e-01, 1.17718953e-01,\n",
       "        1.18590498e-01, 1.19462043e-01, 1.20333587e-01, 1.21205132e-01,\n",
       "        1.22076676e-01, 1.22948221e-01, 1.23819765e-01, 1.24691310e-01,\n",
       "        1.25562854e-01, 1.26434399e-01, 1.27305943e-01, 1.28177488e-01,\n",
       "        1.29049032e-01, 1.29920577e-01, 1.30792121e-01, 1.31663666e-01,\n",
       "        1.32535210e-01, 1.33406755e-01, 1.34278299e-01, 1.35149844e-01,\n",
       "        1.36021388e-01, 1.36892933e-01, 1.37764477e-01, 1.38636022e-01,\n",
       "        1.39507566e-01, 1.40379111e-01, 1.41250655e-01, 1.42122200e-01,\n",
       "        1.42993744e-01, 1.43865289e-01, 1.44736834e-01, 1.45608378e-01,\n",
       "        1.46479923e-01, 1.47351467e-01, 1.48223012e-01, 1.49094556e-01,\n",
       "        1.49966101e-01, 1.50837645e-01, 1.51709190e-01, 1.52580734e-01,\n",
       "        1.53452279e-01, 1.54323823e-01, 1.55195368e-01, 1.56066912e-01,\n",
       "        1.56938457e-01, 1.57810001e-01, 1.58681546e-01, 1.59553090e-01,\n",
       "        1.60424635e-01, 1.61296179e-01, 1.62167724e-01, 1.63039268e-01,\n",
       "        1.63910813e-01, 1.64782357e-01, 1.65653902e-01, 1.66525446e-01,\n",
       "        1.67396991e-01, 1.68268536e-01, 1.69140080e-01, 1.70011625e-01,\n",
       "        1.70883169e-01, 1.71754714e-01, 1.72626258e-01, 1.73497803e-01,\n",
       "        1.74369347e-01, 1.75240892e-01, 1.76112436e-01, 1.76983981e-01,\n",
       "        1.77855525e-01, 1.78727070e-01, 1.79598614e-01, 1.80470159e-01,\n",
       "        1.81341703e-01, 1.82213248e-01, 1.83084792e-01, 1.83956337e-01,\n",
       "        1.84827881e-01, 1.85699426e-01, 1.86570970e-01, 1.87442515e-01,\n",
       "        1.88314059e-01, 1.89185604e-01, 1.90057148e-01, 1.90928693e-01,\n",
       "        1.91800237e-01, 1.92671782e-01, 1.93543327e-01, 1.94414871e-01,\n",
       "        1.95286416e-01, 1.96157960e-01, 1.97029505e-01, 1.97901049e-01,\n",
       "        1.98772594e-01, 1.99644138e-01, 2.00515683e-01, 2.01387227e-01,\n",
       "        2.02258772e-01, 2.03130316e-01, 2.04001861e-01, 2.04873405e-01,\n",
       "        2.05744950e-01, 2.06616494e-01, 2.07488039e-01, 2.08359583e-01,\n",
       "        2.09231128e-01, 2.10102672e-01, 2.10974217e-01, 2.11845761e-01,\n",
       "        2.12717306e-01, 2.13588850e-01, 2.14460395e-01, 2.15331939e-01,\n",
       "        2.16203484e-01, 2.17075029e-01, 2.17946573e-01, 2.18818118e-01,\n",
       "        2.19689662e-01, 2.20561207e-01, 2.21432751e-01, 2.22304296e-01,\n",
       "        2.23175840e-01, 2.24047385e-01, 2.24918929e-01, 2.25790474e-01,\n",
       "        2.26662018e-01, 2.27533563e-01, 2.28405107e-01, 2.29276652e-01,\n",
       "        2.30148196e-01, 2.31019741e-01, 2.31891285e-01, 2.32762830e-01,\n",
       "        2.33634374e-01, 2.34505919e-01, 2.35377463e-01, 2.36249008e-01,\n",
       "        2.37120552e-01, 2.37992097e-01, 2.38863641e-01, 2.39735186e-01,\n",
       "        2.40606730e-01, 2.41478275e-01, 2.42349820e-01, 2.43221364e-01,\n",
       "        2.44092909e-01, 2.44964453e-01, 2.45835998e-01, 2.46707542e-01,\n",
       "        2.47579087e-01, 2.48450631e-01, 2.49322176e-01, 2.50193720e-01,\n",
       "        2.51065265e-01, 2.51936809e-01, 2.52808354e-01, 2.53679898e-01,\n",
       "        2.54551443e-01, 2.55422987e-01, 2.56294532e-01, 2.57166076e-01,\n",
       "        2.58037621e-01, 2.58909165e-01, 2.59780710e-01, 2.60652254e-01,\n",
       "        2.61523799e-01, 2.62395343e-01, 2.63266888e-01, 2.64138432e-01,\n",
       "        2.65009977e-01, 2.65881521e-01, 2.66753066e-01, 2.67624611e-01,\n",
       "        2.68496155e-01, 2.69367700e-01, 2.70239244e-01, 2.71110789e-01,\n",
       "        2.71982333e-01, 2.72853878e-01, 2.73725422e-01, 2.74596967e-01,\n",
       "        2.75468511e-01, 2.76340056e-01, 2.77211600e-01, 2.78083145e-01,\n",
       "        2.78954689e-01, 2.79826234e-01, 2.80697778e-01, 2.81569323e-01,\n",
       "        2.82440867e-01, 2.83312412e-01, 2.84183956e-01, 2.85055501e-01,\n",
       "        2.85927045e-01, 2.86798590e-01, 2.87670134e-01, 2.88541679e-01,\n",
       "        2.89413223e-01, 2.90284768e-01, 2.91156313e-01, 2.92027857e-01,\n",
       "        2.92899402e-01, 2.93770946e-01, 2.94642491e-01, 2.95514035e-01,\n",
       "        2.96385580e-01, 2.97257124e-01, 2.98128669e-01, 2.99000213e-01,\n",
       "        2.99871758e-01, 3.00743302e-01, 3.01614847e-01, 3.02486391e-01,\n",
       "        3.03357936e-01, 3.04229480e-01, 3.05101025e-01, 3.05972569e-01,\n",
       "        3.06844114e-01, 3.07715658e-01, 3.08587203e-01, 3.09458747e-01,\n",
       "        3.10330292e-01, 3.11201836e-01, 3.12073381e-01, 3.12944925e-01,\n",
       "        3.13816470e-01, 3.14688014e-01, 3.15559559e-01, 3.16431104e-01,\n",
       "        3.17302648e-01, 3.18174193e-01, 3.19045737e-01, 3.19917282e-01,\n",
       "        3.20788826e-01, 3.21660371e-01, 3.22531915e-01, 3.23403460e-01,\n",
       "        3.24275004e-01, 3.25146549e-01, 3.26018093e-01, 3.26889638e-01,\n",
       "        3.27761182e-01, 3.28632727e-01, 3.29504271e-01, 3.30375816e-01,\n",
       "        3.31247360e-01, 3.32118905e-01, 3.32990449e-01, 3.33861994e-01,\n",
       "        3.34733538e-01, 3.35605083e-01, 3.36476627e-01, 3.37348172e-01,\n",
       "        3.38219716e-01, 3.39091261e-01, 3.39962806e-01, 3.40834350e-01,\n",
       "        3.41705895e-01, 3.42577439e-01, 3.43448984e-01, 3.44320528e-01,\n",
       "        3.45192073e-01, 3.46063617e-01, 3.46935162e-01, 3.47806706e-01,\n",
       "        3.48678251e-01]))"
      ]
     },
     "execution_count": 185,
     "metadata": {},
     "output_type": "execute_result"
    }
   ],
   "source": [
    "histogram_1to2, edges_1to2"
   ]
  },
  {
   "cell_type": "code",
   "execution_count": null,
   "id": "981ffd36-c993-4a54-8b5e-9eba6742acfa",
   "metadata": {},
   "outputs": [],
   "source": []
  }
 ],
 "metadata": {
  "kernelspec": {
   "display_name": "Python 3 (ipykernel)",
   "language": "python",
   "name": "python3"
  },
  "language_info": {
   "codemirror_mode": {
    "name": "ipython",
    "version": 3
   },
   "file_extension": ".py",
   "mimetype": "text/x-python",
   "name": "python",
   "nbconvert_exporter": "python",
   "pygments_lexer": "ipython3",
   "version": "3.10.13"
  }
 },
 "nbformat": 4,
 "nbformat_minor": 5
}
